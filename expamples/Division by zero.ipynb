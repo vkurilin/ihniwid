{
 "cells": [
  {
   "cell_type": "code",
   "execution_count": 3,
   "id": "together-revelation",
   "metadata": {},
   "outputs": [],
   "source": [
    "%load_ext ihniwid"
   ]
  },
  {
   "cell_type": "code",
   "execution_count": 10,
   "id": "swiss-quality",
   "metadata": {},
   "outputs": [
    {
     "ename": "ZeroDivisionError",
     "evalue": "division by zero",
     "output_type": "error",
     "traceback": [
      "\u001B[0;31m---------------------------------------------------------------------------\u001B[0m",
      "\u001B[0;31mZeroDivisionError\u001B[0m                         Traceback (most recent call last)",
      "\u001B[0;32m<ipython-input-10-bc757c3fda29>\u001B[0m in \u001B[0;36m<module>\u001B[0;34m\u001B[0m\n\u001B[0;32m----> 1\u001B[0;31m \u001B[0;36m1\u001B[0m \u001B[0;34m/\u001B[0m \u001B[0;36m0\u001B[0m\u001B[0;34m\u001B[0m\u001B[0;34m\u001B[0m\u001B[0m\n\u001B[0m",
      "\u001B[0;31mZeroDivisionError\u001B[0m: division by zero"
     ]
    }
   ],
   "source": [
    "1 / 0"
   ]
  },
  {
   "cell_type": "code",
   "execution_count": 11,
   "id": "sharing-concrete",
   "metadata": {},
   "outputs": [
    {
     "name": "stdout",
     "output_type": "stream",
     "text": [
      "message is division by zero\n"
     ]
    },
    {
     "data": {
      "text/html": [
       "<p>Из ответа <a href=https://stackoverflow.com/a/66524192>Error : [ZeroDivisionError: float division by zero]</a>:</p><pre style=\"border: 1px solid gray; padding: 5px; margin: 5px 0\"><code>print(len(test_data))\n",
       "</code></pre>"
      ],
      "text/plain": [
       "<ihniwid.code_suggestion.CodeSuggestion at 0x116fe7400>"
      ]
     },
     "metadata": {},
     "output_type": "display_data"
    },
    {
     "data": {
      "text/html": [
       "<p>Из ответа <a href=https://stackoverflow.com/a/65378150>ZeroDivisionError: division by zero in chess.py</a>:</p><pre style=\"border: 1px solid gray; padding: 5px; margin: 5px 0\"><code>if board[y][x]==0:\n",
       "</code></pre>"
      ],
      "text/plain": [
       "<ihniwid.code_suggestion.CodeSuggestion at 0x116fe74f0>"
      ]
     },
     "metadata": {},
     "output_type": "display_data"
    },
    {
     "data": {
      "text/html": [
       "<p>Из ответа <a href=https://stackoverflow.com/a/64688563>How do I log a Python error with debug information?</a>:</p><pre style=\"border: 1px solid gray; padding: 5px; margin: 5px 0\"><code>2020-03-30 18:24:31 main ERROR   File \"./temp.py\", line 13, in get_ratio\n",
       "2020-03-30 18:24:31 main ERROR     return height / width\n",
       "2020-03-30 18:24:31 main ERROR       height = 300\n",
       "2020-03-30 18:24:31 main ERROR       width = 0\n",
       "2020-03-30 18:24:31 main ERROR builtins.ZeroDivisionError: division by zero\n",
       "</code></pre>"
      ],
      "text/plain": [
       "<ihniwid.code_suggestion.CodeSuggestion at 0x116ff6520>"
      ]
     },
     "metadata": {},
     "output_type": "display_data"
    },
    {
     "data": {
      "text/html": [
       "<p>Из ответа <a href=https://stackoverflow.com/a/63673589>ZeroDivisionError: float division by zero in list elements division</a>:</p><pre style=\"border: 1px solid gray; padding: 5px; margin: 5px 0\"><code>In [1]: a = [[0]*2]*2\n",
       "\n",
       "In [2]: a\n",
       "Out[2]: [[0, 0], [0, 0]]\n",
       "\n",
       "In [3]: a[1][1] = 1\n",
       "\n",
       "In [4]: a\n",
       "Out[4]: [[0, 1], [0, 1]]\n",
       "</code></pre>"
      ],
      "text/plain": [
       "<ihniwid.code_suggestion.CodeSuggestion at 0x116ff6ca0>"
      ]
     },
     "metadata": {},
     "output_type": "display_data"
    },
    {
     "data": {
      "text/html": [
       "<p>Из ответа <a href=https://stackoverflow.com/a/63673589>ZeroDivisionError: float division by zero in list elements division</a>:</p><pre style=\"border: 1px solid gray; padding: 5px; margin: 5px 0\"><code>from numpy import zeros\n",
       "a = zeros((n, n))\n",
       "</code></pre>"
      ],
      "text/plain": [
       "<ihniwid.code_suggestion.CodeSuggestion at 0x116fe7d30>"
      ]
     },
     "metadata": {},
     "output_type": "display_data"
    },
    {
     "data": {
      "text/html": [
       "<p>Из ответа <a href=https://stackoverflow.com/a/5191885>How do I log a Python error with debug information?</a>:</p><pre style=\"border: 1px solid gray; padding: 5px; margin: 5px 0\"><code>import logging\n",
       "try:\n",
       "    1/0\n",
       "except ZeroDivisionError:\n",
       "    logging.exception(\"message\")\n",
       "</code></pre>"
      ],
      "text/plain": [
       "<ihniwid.code_suggestion.CodeSuggestion at 0x116ffc340>"
      ]
     },
     "metadata": {},
     "output_type": "display_data"
    },
    {
     "data": {
      "text/html": [
       "<p>Из ответа <a href=https://stackoverflow.com/a/5191885>How do I log a Python error with debug information?</a>:</p><pre style=\"border: 1px solid gray; padding: 5px; margin: 5px 0\"><code>ERROR:root:message\n",
       "Traceback (most recent call last):\n",
       "  File \"<stdin>\", line 2, in <module>\n",
       "ZeroDivisionError: integer division or modulo by zero\n",
       "</code></pre>"
      ],
      "text/plain": [
       "<ihniwid.code_suggestion.CodeSuggestion at 0x116ff6520>"
      ]
     },
     "metadata": {},
     "output_type": "display_data"
    },
    {
     "data": {
      "text/html": [
       "<p>Из ответа <a href=https://stackoverflow.com/a/62617864>How do I log a Python error with debug information?</a>:</p><pre style=\"border: 1px solid gray; padding: 5px; margin: 5px 0\"><code>def sentry_friendly_trace(get_last_exception=True):\n",
       "    try:\n",
       "        current_call = list(map(frame_trans, traceback.extract_stack()))\n",
       "        alert_frame = current_call[-4]\n",
       "        before_call = current_call[:-4]\n",
       "\n",
       "        err_type, err, tb = sys.exc_info() if get_last_exception else (None, None, None)\n",
       "        after_call = [alert_frame] if err_type is None else extract_all_sentry_frames_from_exception(tb)\n",
       "\n",
       "        return before_call + after_call, err, alert_frame\n",
       "    except:\n",
       "        return None, None, None\n",
       "</code></pre>"
      ],
      "text/plain": [
       "<ihniwid.code_suggestion.CodeSuggestion at 0x116ffcc10>"
      ]
     },
     "metadata": {},
     "output_type": "display_data"
    },
    {
     "data": {
      "text/html": [
       "<p>Из ответа <a href=https://stackoverflow.com/a/62399147>Getting ZeroDivisionError: division by zero error when trying to find the centered average</a>:</p><pre style=\"border: 1px solid gray; padding: 5px; margin: 5px 0\"><code>def centered_average(nums):\n",
       "    n_lst = sorted(nums)[1:-1]\n",
       "    return sum(n_lst)// len(n_lst)\n",
       "</code></pre>"
      ],
      "text/plain": [
       "<ihniwid.code_suggestion.CodeSuggestion at 0x116ffcbb0>"
      ]
     },
     "metadata": {},
     "output_type": "display_data"
    },
    {
     "data": {
      "text/html": [
       "<p>Из ответа <a href=https://stackoverflow.com/a/61911027>How do I log a Python error with debug information?</a>:</p><pre style=\"border: 1px solid gray; padding: 5px; margin: 5px 0\"><code>api_logger.exceptionLog(\"*Input your Custom error message*\",stack_info=True)\n",
       "</code></pre>"
      ],
      "text/plain": [
       "<ihniwid.code_suggestion.CodeSuggestion at 0x116ffcb80>"
      ]
     },
     "metadata": {},
     "output_type": "display_data"
    }
   ],
   "source": [
    "%ihniwid"
   ]
  },
  {
   "cell_type": "code",
   "execution_count": null,
   "id": "willing-shuttle",
   "metadata": {},
   "outputs": [],
   "source": []
  }
 ],
 "metadata": {
  "kernelspec": {
   "display_name": "Python 3",
   "language": "python",
   "name": "python3"
  },
  "language_info": {
   "codemirror_mode": {
    "name": "ipython",
    "version": 3
   },
   "file_extension": ".py",
   "mimetype": "text/x-python",
   "name": "python",
   "nbconvert_exporter": "python",
   "pygments_lexer": "ipython3",
   "version": "3.9.4"
  }
 },
 "nbformat": 4,
 "nbformat_minor": 5
}